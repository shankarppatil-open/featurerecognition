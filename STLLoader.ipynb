{
  "nbformat": 4,
  "nbformat_minor": 0,
  "metadata": {
    "colab": {
      "name": "STLLoader.ipynb",
      "provenance": [],
      "collapsed_sections": [],
      "mount_file_id": "1NXROCpSNNrnK72b9gGwPKuNk_FTxO_Su",
      "authorship_tag": "ABX9TyPAIK4pADFvqpCkkRTI9Rq/",
      "include_colab_link": true
    },
    "kernelspec": {
      "name": "python3",
      "display_name": "Python 3"
    }
  },
  "cells": [
    {
      "cell_type": "markdown",
      "metadata": {
        "id": "view-in-github",
        "colab_type": "text"
      },
      "source": [
        "<a href=\"https://colab.research.google.com/github/shankarppatil-open/featurerecognition/blob/main/STLLoader.ipynb\" target=\"_parent\"><img src=\"https://colab.research.google.com/assets/colab-badge.svg\" alt=\"Open In Colab\"/></a>"
      ]
    },
    {
      "cell_type": "code",
      "metadata": {
        "id": "uqzwvTY4D_Gp",
        "outputId": "aa902b5e-410c-4601-e53b-814ab179da1b",
        "colab": {
          "base_uri": "https://localhost:8080/",
          "height": 630
        }
      },
      "source": [
        "from stl import mesh\n",
        "from mpl_toolkits import mplot3d\n",
        "from matplotlib import pyplot\n",
        "\n",
        "# Create a new plot\n",
        "figure = pyplot.figure()\n",
        "axes = mplot3d.Axes3D(figure)\n",
        "\n",
        "# Load the STL files and add the vectors to the plot\n",
        "your_mesh = mesh.Mesh.from_file('tests/stl_binary/HalfDonut.stl')\n",
        "axes.add_collection3d(mplot3d.art3d.Poly3DCollection(your_mesh.vectors))\n",
        "\n",
        "# Auto scale to the mesh size\n",
        "scale = your_mesh.points.flatten()\n",
        "axes.auto_scale_xyz(scale, scale, scale)\n",
        "\n",
        "# Show the plot to the screen\n",
        "pyplot.show()"
      ],
      "execution_count": null,
      "outputs": [
        {
          "output_type": "stream",
          "text": [
            "Collecting numpy-stl\n",
            "\u001b[?25l  Downloading https://files.pythonhosted.org/packages/70/b2/e05e358d3aa30572769dbedaf14435098e660f758c3d8c30ef526acc80d0/numpy-stl-2.12.0.tar.gz (486kB)\n",
            "\r\u001b[K     |▊                               | 10kB 16.8MB/s eta 0:00:01\r\u001b[K     |█▍                              | 20kB 1.7MB/s eta 0:00:01\r\u001b[K     |██                              | 30kB 2.3MB/s eta 0:00:01\r\u001b[K     |██▊                             | 40kB 2.5MB/s eta 0:00:01\r\u001b[K     |███▍                            | 51kB 2.0MB/s eta 0:00:01\r\u001b[K     |████                            | 61kB 2.3MB/s eta 0:00:01\r\u001b[K     |████▊                           | 71kB 2.6MB/s eta 0:00:01\r\u001b[K     |█████▍                          | 81kB 2.7MB/s eta 0:00:01\r\u001b[K     |██████                          | 92kB 3.0MB/s eta 0:00:01\r\u001b[K     |██████▊                         | 102kB 2.8MB/s eta 0:00:01\r\u001b[K     |███████▍                        | 112kB 2.8MB/s eta 0:00:01\r\u001b[K     |████████                        | 122kB 2.8MB/s eta 0:00:01\r\u001b[K     |████████▊                       | 133kB 2.8MB/s eta 0:00:01\r\u001b[K     |█████████▍                      | 143kB 2.8MB/s eta 0:00:01\r\u001b[K     |██████████                      | 153kB 2.8MB/s eta 0:00:01\r\u001b[K     |██████████▊                     | 163kB 2.8MB/s eta 0:00:01\r\u001b[K     |███████████▍                    | 174kB 2.8MB/s eta 0:00:01\r\u001b[K     |████████████▏                   | 184kB 2.8MB/s eta 0:00:01\r\u001b[K     |████████████▉                   | 194kB 2.8MB/s eta 0:00:01\r\u001b[K     |█████████████▌                  | 204kB 2.8MB/s eta 0:00:01\r\u001b[K     |██████████████▏                 | 215kB 2.8MB/s eta 0:00:01\r\u001b[K     |██████████████▉                 | 225kB 2.8MB/s eta 0:00:01\r\u001b[K     |███████████████▌                | 235kB 2.8MB/s eta 0:00:01\r\u001b[K     |████████████████▏               | 245kB 2.8MB/s eta 0:00:01\r\u001b[K     |████████████████▉               | 256kB 2.8MB/s eta 0:00:01\r\u001b[K     |█████████████████▌              | 266kB 2.8MB/s eta 0:00:01\r\u001b[K     |██████████████████▏             | 276kB 2.8MB/s eta 0:00:01\r\u001b[K     |██████████████████▉             | 286kB 2.8MB/s eta 0:00:01\r\u001b[K     |███████████████████▌            | 296kB 2.8MB/s eta 0:00:01\r\u001b[K     |████████████████████▏           | 307kB 2.8MB/s eta 0:00:01\r\u001b[K     |████████████████████▉           | 317kB 2.8MB/s eta 0:00:01\r\u001b[K     |█████████████████████▌          | 327kB 2.8MB/s eta 0:00:01\r\u001b[K     |██████████████████████▏         | 337kB 2.8MB/s eta 0:00:01\r\u001b[K     |██████████████████████▉         | 348kB 2.8MB/s eta 0:00:01\r\u001b[K     |███████████████████████▋        | 358kB 2.8MB/s eta 0:00:01\r\u001b[K     |████████████████████████▎       | 368kB 2.8MB/s eta 0:00:01\r\u001b[K     |█████████████████████████       | 378kB 2.8MB/s eta 0:00:01\r\u001b[K     |█████████████████████████▋      | 389kB 2.8MB/s eta 0:00:01\r\u001b[K     |██████████████████████████▎     | 399kB 2.8MB/s eta 0:00:01\r\u001b[K     |███████████████████████████     | 409kB 2.8MB/s eta 0:00:01\r\u001b[K     |███████████████████████████▋    | 419kB 2.8MB/s eta 0:00:01\r\u001b[K     |████████████████████████████▎   | 430kB 2.8MB/s eta 0:00:01\r\u001b[K     |█████████████████████████████   | 440kB 2.8MB/s eta 0:00:01\r\u001b[K     |█████████████████████████████▋  | 450kB 2.8MB/s eta 0:00:01\r\u001b[K     |██████████████████████████████▎ | 460kB 2.8MB/s eta 0:00:01\r\u001b[K     |███████████████████████████████ | 471kB 2.8MB/s eta 0:00:01\r\u001b[K     |███████████████████████████████▋| 481kB 2.8MB/s eta 0:00:01\r\u001b[K     |████████████████████████████████| 491kB 2.8MB/s \n",
            "\u001b[?25hRequirement already satisfied: numpy in /usr/local/lib/python3.6/dist-packages (from numpy-stl) (1.18.5)\n",
            "Requirement already satisfied: python-utils>=1.6.2 in /usr/local/lib/python3.6/dist-packages (from numpy-stl) (2.4.0)\n",
            "Requirement already satisfied: six in /usr/local/lib/python3.6/dist-packages (from python-utils>=1.6.2->numpy-stl) (1.15.0)\n",
            "Building wheels for collected packages: numpy-stl\n",
            "  Building wheel for numpy-stl (setup.py) ... \u001b[?25l\u001b[?25hdone\n",
            "  Created wheel for numpy-stl: filename=numpy_stl-2.12.0-cp36-cp36m-linux_x86_64.whl size=134991 sha256=d974914afb9446344ef3ebc9d12a3a3211a115b166a593d55ccd3d821c9383d3\n",
            "  Stored in directory: /root/.cache/pip/wheels/6c/37/be/0b13caa56bbb99b2a11eee15333b912401d75a3fde2fba0051\n",
            "Successfully built numpy-stl\n",
            "Installing collected packages: numpy-stl\n",
            "Successfully installed numpy-stl-2.12.0\n"
          ],
          "name": "stdout"
        },
        {
          "output_type": "stream",
          "text": [
            "/usr/lib/python3.6/importlib/_bootstrap.py:219: FutureWarning: Passing (type, 1) or '1type' as a synonym of type is deprecated; in a future version of numpy, it will be understood as (type, (1,)) / '(1,)type'.\n",
            "  return f(*args, **kwds)\n"
          ],
          "name": "stderr"
        },
        {
          "output_type": "error",
          "ename": "FileNotFoundError",
          "evalue": "ignored",
          "traceback": [
            "\u001b[0;31m---------------------------------------------------------------------------\u001b[0m",
            "\u001b[0;31mFileNotFoundError\u001b[0m                         Traceback (most recent call last)",
            "\u001b[0;32m<ipython-input-1-c8d55cce260a>\u001b[0m in \u001b[0;36m<module>\u001b[0;34m()\u001b[0m\n\u001b[1;32m      4\u001b[0m \u001b[0;34m\u001b[0m\u001b[0m\n\u001b[1;32m      5\u001b[0m \u001b[0;31m# Using an existing stl file:\u001b[0m\u001b[0;34m\u001b[0m\u001b[0;34m\u001b[0m\u001b[0;34m\u001b[0m\u001b[0m\n\u001b[0;32m----> 6\u001b[0;31m \u001b[0myour_mesh\u001b[0m \u001b[0;34m=\u001b[0m \u001b[0mmesh\u001b[0m\u001b[0;34m.\u001b[0m\u001b[0mMesh\u001b[0m\u001b[0;34m.\u001b[0m\u001b[0mfrom_file\u001b[0m\u001b[0;34m(\u001b[0m\u001b[0;34m'pr2_head_pan.stl'\u001b[0m\u001b[0;34m)\u001b[0m\u001b[0;34m\u001b[0m\u001b[0;34m\u001b[0m\u001b[0m\n\u001b[0m\u001b[1;32m      7\u001b[0m \u001b[0;34m\u001b[0m\u001b[0m\n\u001b[1;32m      8\u001b[0m \u001b[0;31m# Or creating a new mesh (make sure not to overwrite the `mesh` import by\u001b[0m\u001b[0;34m\u001b[0m\u001b[0;34m\u001b[0m\u001b[0;34m\u001b[0m\u001b[0m\n",
            "\u001b[0;32m/usr/local/lib/python3.6/dist-packages/stl/stl.py\u001b[0m in \u001b[0;36mfrom_file\u001b[0;34m(cls, filename, calculate_normals, fh, mode, speedups, **kwargs)\u001b[0m\n\u001b[1;32m    338\u001b[0m                 fh, mode=mode, speedups=speedups)\n\u001b[1;32m    339\u001b[0m         \u001b[0;32melse\u001b[0m\u001b[0;34m:\u001b[0m\u001b[0;34m\u001b[0m\u001b[0;34m\u001b[0m\u001b[0m\n\u001b[0;32m--> 340\u001b[0;31m             \u001b[0;32mwith\u001b[0m \u001b[0mopen\u001b[0m\u001b[0;34m(\u001b[0m\u001b[0mfilename\u001b[0m\u001b[0;34m,\u001b[0m \u001b[0;34m'rb'\u001b[0m\u001b[0;34m)\u001b[0m \u001b[0;32mas\u001b[0m \u001b[0mfh\u001b[0m\u001b[0;34m:\u001b[0m\u001b[0;34m\u001b[0m\u001b[0;34m\u001b[0m\u001b[0m\n\u001b[0m\u001b[1;32m    341\u001b[0m                 name, data = cls.load(\n\u001b[1;32m    342\u001b[0m                     fh, mode=mode, speedups=speedups)\n",
            "\u001b[0;31mFileNotFoundError\u001b[0m: [Errno 2] No such file or directory: 'pr2_head_pan.stl'"
          ]
        }
      ]
    },
    {
      "cell_type": "markdown",
      "metadata": {
        "id": "loz5MH9ue8Wo"
      },
      "source": [
        ""
      ]
    },
    {
      "cell_type": "code",
      "metadata": {
        "id": "BRAnHTrje9mk"
      },
      "source": [
        ""
      ],
      "execution_count": null,
      "outputs": []
    }
  ]
}